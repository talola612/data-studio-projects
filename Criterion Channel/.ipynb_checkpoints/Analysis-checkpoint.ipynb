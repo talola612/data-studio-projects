{
 "cells": [
  {
   "cell_type": "code",
   "execution_count": 1,
   "metadata": {},
   "outputs": [],
   "source": [
    "import pandas as pd\n",
    "import re\n",
    "import numpy as np\n",
    "%matplotlib inline\n",
    "import pandas as pd\n",
    "import matplotlib\n",
    "import matplotlib.pyplot as plt\n",
    "matplotlib.rcParams['pdf.fonttype'] = 42\n"
   ]
  },
  {
   "cell_type": "code",
   "execution_count": 2,
   "metadata": {},
   "outputs": [],
   "source": [
    "%matplotlib inline\n",
    "import seaborn as sns"
   ]
  },
  {
   "cell_type": "code",
   "execution_count": 3,
   "metadata": {},
   "outputs": [
    {
     "data": {
      "text/html": [
       "<div>\n",
       "<style scoped>\n",
       "    .dataframe tbody tr th:only-of-type {\n",
       "        vertical-align: middle;\n",
       "    }\n",
       "\n",
       "    .dataframe tbody tr th {\n",
       "        vertical-align: top;\n",
       "    }\n",
       "\n",
       "    .dataframe thead th {\n",
       "        text-align: right;\n",
       "    }\n",
       "</style>\n",
       "<table border=\"1\" class=\"dataframe\">\n",
       "  <thead>\n",
       "    <tr style=\"text-align: right;\">\n",
       "      <th></th>\n",
       "      <th>title</th>\n",
       "      <th>director</th>\n",
       "      <th>country</th>\n",
       "      <th>spine</th>\n",
       "      <th>url</th>\n",
       "      <th>img</th>\n",
       "    </tr>\n",
       "  </thead>\n",
       "  <tbody>\n",
       "    <tr>\n",
       "      <th>0</th>\n",
       "      <td>2 or 3 Things I Know About Her</td>\n",
       "      <td>Jean-Luc Godard</td>\n",
       "      <td>France</td>\n",
       "      <td>482.0</td>\n",
       "      <td>https://www.criterion.com/films/1333-2-or-3-th...</td>\n",
       "      <td>https://s3.amazonaws.com/criterion-production/...</td>\n",
       "    </tr>\n",
       "    <tr>\n",
       "      <th>1</th>\n",
       "      <td>3:10 to Yuma</td>\n",
       "      <td>Delmer Daves</td>\n",
       "      <td>United States</td>\n",
       "      <td>657.0</td>\n",
       "      <td>https://www.criterion.com/films/27910-3-10-to-...</td>\n",
       "      <td>https://s3.amazonaws.com/criterion-production/...</td>\n",
       "    </tr>\n",
       "    <tr>\n",
       "      <th>2</th>\n",
       "      <td>3 Films by Louis Malle</td>\n",
       "      <td>NaN</td>\n",
       "      <td>NaN</td>\n",
       "      <td>327.0</td>\n",
       "      <td>https://www.criterion.com/boxsets/397-3-films-...</td>\n",
       "      <td>https://s3.amazonaws.com/criterion-production/...</td>\n",
       "    </tr>\n",
       "    <tr>\n",
       "      <th>3</th>\n",
       "      <td>3 Films by Roberto Rossellini Starring Ingrid ...</td>\n",
       "      <td>NaN</td>\n",
       "      <td>NaN</td>\n",
       "      <td>672.0</td>\n",
       "      <td>https://www.criterion.com/boxsets/982-3-films-...</td>\n",
       "      <td>https://s3.amazonaws.com/criterion-production/...</td>\n",
       "    </tr>\n",
       "    <tr>\n",
       "      <th>4</th>\n",
       "      <td>3 Silent Classics by Josef von Sternberg</td>\n",
       "      <td>NaN</td>\n",
       "      <td>NaN</td>\n",
       "      <td>528.0</td>\n",
       "      <td>https://www.criterion.com/boxsets/744-3-silent...</td>\n",
       "      <td>https://s3.amazonaws.com/criterion-production/...</td>\n",
       "    </tr>\n",
       "  </tbody>\n",
       "</table>\n",
       "</div>"
      ],
      "text/plain": [
       "                                               title         director  \\\n",
       "0                     2 or 3 Things I Know About Her  Jean-Luc Godard   \n",
       "1                                       3:10 to Yuma     Delmer Daves   \n",
       "2                             3 Films by Louis Malle              NaN   \n",
       "3  3 Films by Roberto Rossellini Starring Ingrid ...              NaN   \n",
       "4           3 Silent Classics by Josef von Sternberg              NaN   \n",
       "\n",
       "         country  spine                                                url  \\\n",
       "0         France  482.0  https://www.criterion.com/films/1333-2-or-3-th...   \n",
       "1  United States  657.0  https://www.criterion.com/films/27910-3-10-to-...   \n",
       "2            NaN  327.0  https://www.criterion.com/boxsets/397-3-films-...   \n",
       "3            NaN  672.0  https://www.criterion.com/boxsets/982-3-films-...   \n",
       "4            NaN  528.0  https://www.criterion.com/boxsets/744-3-silent...   \n",
       "\n",
       "                                                 img  \n",
       "0  https://s3.amazonaws.com/criterion-production/...  \n",
       "1  https://s3.amazonaws.com/criterion-production/...  \n",
       "2  https://s3.amazonaws.com/criterion-production/...  \n",
       "3  https://s3.amazonaws.com/criterion-production/...  \n",
       "4  https://s3.amazonaws.com/criterion-production/...  "
      ]
     },
     "execution_count": 3,
     "metadata": {},
     "output_type": "execute_result"
    }
   ],
   "source": [
    "\n",
    "df = pd.read_csv('Criterion_collection.csv')\n",
    "df.head()"
   ]
  },
  {
   "cell_type": "code",
   "execution_count": 4,
   "metadata": {},
   "outputs": [
    {
     "data": {
      "text/html": [
       "<div>\n",
       "<style scoped>\n",
       "    .dataframe tbody tr th:only-of-type {\n",
       "        vertical-align: middle;\n",
       "    }\n",
       "\n",
       "    .dataframe tbody tr th {\n",
       "        vertical-align: top;\n",
       "    }\n",
       "\n",
       "    .dataframe thead th {\n",
       "        text-align: right;\n",
       "    }\n",
       "</style>\n",
       "<table border=\"1\" class=\"dataframe\">\n",
       "  <thead>\n",
       "    <tr style=\"text-align: right;\">\n",
       "      <th></th>\n",
       "      <th>title</th>\n",
       "      <th>director</th>\n",
       "      <th>country</th>\n",
       "      <th>spine</th>\n",
       "      <th>url</th>\n",
       "      <th>img</th>\n",
       "    </tr>\n",
       "  </thead>\n",
       "  <tbody>\n",
       "    <tr>\n",
       "      <th>0</th>\n",
       "      <td>2 or 3 Things I Know About Her</td>\n",
       "      <td>Jean-Luc Godard</td>\n",
       "      <td>France</td>\n",
       "      <td>482.0</td>\n",
       "      <td>https://www.criterion.com/films/1333-2-or-3-th...</td>\n",
       "      <td>https://s3.amazonaws.com/criterion-production/...</td>\n",
       "    </tr>\n",
       "    <tr>\n",
       "      <th>1</th>\n",
       "      <td>3:10 to Yuma</td>\n",
       "      <td>Delmer Daves</td>\n",
       "      <td>United States</td>\n",
       "      <td>657.0</td>\n",
       "      <td>https://www.criterion.com/films/27910-3-10-to-...</td>\n",
       "      <td>https://s3.amazonaws.com/criterion-production/...</td>\n",
       "    </tr>\n",
       "    <tr>\n",
       "      <th>5</th>\n",
       "      <td>3 Women</td>\n",
       "      <td>Robert Altman</td>\n",
       "      <td>United States</td>\n",
       "      <td>230.0</td>\n",
       "      <td>https://www.criterion.com/films/712-3-women</td>\n",
       "      <td>https://s3.amazonaws.com/criterion-production/...</td>\n",
       "    </tr>\n",
       "    <tr>\n",
       "      <th>7</th>\n",
       "      <td>4 Months, 3 Weeks and 2 Days</td>\n",
       "      <td>Cristian Mungiu</td>\n",
       "      <td>Romania</td>\n",
       "      <td>958.0</td>\n",
       "      <td>https://www.criterion.com/films/28617-4-months...</td>\n",
       "      <td>https://s3.amazonaws.com/criterion-production/...</td>\n",
       "    </tr>\n",
       "    <tr>\n",
       "      <th>8</th>\n",
       "      <td>8½</td>\n",
       "      <td>Federico Fellini</td>\n",
       "      <td>Italy</td>\n",
       "      <td>140.0</td>\n",
       "      <td>https://www.criterion.com/films/150-8-1-2</td>\n",
       "      <td>https://s3.amazonaws.com/criterion-production/...</td>\n",
       "    </tr>\n",
       "  </tbody>\n",
       "</table>\n",
       "</div>"
      ],
      "text/plain": [
       "                            title          director        country  spine  \\\n",
       "0  2 or 3 Things I Know About Her   Jean-Luc Godard         France  482.0   \n",
       "1                    3:10 to Yuma      Delmer Daves  United States  657.0   \n",
       "5                         3 Women     Robert Altman  United States  230.0   \n",
       "7    4 Months, 3 Weeks and 2 Days   Cristian Mungiu        Romania  958.0   \n",
       "8                              8½  Federico Fellini          Italy  140.0   \n",
       "\n",
       "                                                 url  \\\n",
       "0  https://www.criterion.com/films/1333-2-or-3-th...   \n",
       "1  https://www.criterion.com/films/27910-3-10-to-...   \n",
       "5        https://www.criterion.com/films/712-3-women   \n",
       "7  https://www.criterion.com/films/28617-4-months...   \n",
       "8          https://www.criterion.com/films/150-8-1-2   \n",
       "\n",
       "                                                 img  \n",
       "0  https://s3.amazonaws.com/criterion-production/...  \n",
       "1  https://s3.amazonaws.com/criterion-production/...  \n",
       "5  https://s3.amazonaws.com/criterion-production/...  \n",
       "7  https://s3.amazonaws.com/criterion-production/...  \n",
       "8  https://s3.amazonaws.com/criterion-production/...  "
      ]
     },
     "execution_count": 4,
     "metadata": {},
     "output_type": "execute_result"
    }
   ],
   "source": [
    "film_df = df[df.director.notna()]\n",
    "film_df.head()"
   ]
  },
  {
   "cell_type": "markdown",
   "metadata": {},
   "source": [
    "## 1209 films in the current collection\n"
   ]
  },
  {
   "cell_type": "code",
   "execution_count": 5,
   "metadata": {},
   "outputs": [
    {
     "data": {
      "text/plain": [
       "1209"
      ]
     },
     "execution_count": 5,
     "metadata": {},
     "output_type": "execute_result"
    }
   ],
   "source": [
    "film_df.title.count()\n"
   ]
  },
  {
   "cell_type": "markdown",
   "metadata": {},
   "source": [
    "### What are these movies from?\n"
   ]
  },
  {
   "cell_type": "code",
   "execution_count": 6,
   "metadata": {},
   "outputs": [
    {
     "data": {
      "text/plain": [
       "country\n",
       "United States     364\n",
       "France            222\n",
       "Japan             179\n",
       "United Kingdom    114\n",
       "Italy              71\n",
       "Sweden             57\n",
       "Germany            33\n",
       "Soviet Union       14\n",
       "Canada             13\n",
       "Czechoslovakia     13\n",
       "Spain              13\n",
       "India              12\n",
       "Denmark            12\n",
       "Mexico              9\n",
       "Poland              8\n",
       "Finland             8\n",
       "Iran                7\n",
       "Hong Kong           6\n",
       "West Germany        5\n",
       "Taiwan              5\n",
       "Belgium             5\n",
       "Yugoslavia          4\n",
       "Australia           4\n",
       "Portugal            3\n",
       "Romania             3\n",
       "Austria             2\n",
       "Philippines         2\n",
       "Senegal             2\n",
       "South Korea         2\n",
       "Turkey              2\n",
       "New Zealand         2\n",
       "Brazil              1\n",
       "Bangladesh          1\n",
       "Cuba                1\n",
       "China               1\n",
       "Kazakhstan          1\n",
       "Guatemala           1\n",
       "Ireland             1\n",
       "Macedonia           1\n",
       "Morocco             1\n",
       "Netherlands         1\n",
       "Norway              1\n",
       "Thailand            1\n",
       "Argentina           1\n",
       "Name: director, dtype: int64"
      ]
     },
     "execution_count": 6,
     "metadata": {},
     "output_type": "execute_result"
    }
   ],
   "source": [
    "film_df.groupby('country').director.count().sort_values(ascending = False)\n"
   ]
  },
  {
   "cell_type": "markdown",
   "metadata": {},
   "source": [
    "### Number of unique country \n"
   ]
  },
  {
   "cell_type": "code",
   "execution_count": 7,
   "metadata": {},
   "outputs": [
    {
     "data": {
      "text/plain": [
       "44"
      ]
     },
     "execution_count": 7,
     "metadata": {},
     "output_type": "execute_result"
    }
   ],
   "source": [
    "film_df.country.nunique()"
   ]
  },
  {
   "cell_type": "markdown",
   "metadata": {},
   "source": [
    "### CC liscened most films from these countries\n"
   ]
  },
  {
   "cell_type": "code",
   "execution_count": 8,
   "metadata": {},
   "outputs": [
    {
     "data": {
      "text/plain": [
       "country\n",
       "United States     364\n",
       "France            222\n",
       "Japan             179\n",
       "United Kingdom    114\n",
       "Italy              71\n",
       "Sweden             57\n",
       "Germany            33\n",
       "Soviet Union       14\n",
       "Canada             13\n",
       "Czechoslovakia     13\n",
       "Spain              13\n",
       "India              12\n",
       "Denmark            12\n",
       "Mexico              9\n",
       "Poland              8\n",
       "Finland             8\n",
       "Iran                7\n",
       "Hong Kong           6\n",
       "West Germany        5\n",
       "Taiwan              5\n",
       "Name: director, dtype: int64"
      ]
     },
     "execution_count": 8,
     "metadata": {},
     "output_type": "execute_result"
    }
   ],
   "source": [
    "film_df.groupby('country').director.count().sort_values(ascending = False).head(20)"
   ]
  },
  {
   "cell_type": "code",
   "execution_count": 9,
   "metadata": {},
   "outputs": [
    {
     "data": {
      "text/plain": [
       "[364, 222, 179, 114, 71, 57, 33, 14, 13, 13]"
      ]
     },
     "execution_count": 9,
     "metadata": {},
     "output_type": "execute_result"
    }
   ],
   "source": [
    "film_df.groupby('country').director.count().sort_values(ascending = False).head(10).values.tolist()"
   ]
  },
  {
   "cell_type": "code",
   "execution_count": 73,
   "metadata": {},
   "outputs": [
    {
     "data": {
      "image/png": "[encoded data removed]",
      "text/plain": [
       "<Figure size 648x504 with 1 Axes>"
      ]
     },
     "metadata": {
      "needs_background": "light"
     },
     "output_type": "display_data"
    }
   ],
   "source": [
    "ax = film_df.groupby('country').director.count().\\\n",
    "     sort_values(ascending = False).head(10).\\\n",
    "     sort_values(ascending = True).\\\n",
    "     plot(kind = 'barh', figsize = (9, 7))\n",
    "ax.grid(linestyle = '--', axis = 'x')\n",
    "plt.tight_layout()\n",
    "plt.savefig(\"film_by_country.pdf\")"
   ]
  },
  {
   "cell_type": "markdown",
   "metadata": {},
   "source": [
    "### 479 directors in total¶\n"
   ]
  },
  {
   "cell_type": "code",
   "execution_count": 49,
   "metadata": {},
   "outputs": [
    {
     "data": {
      "text/plain": [
       "479"
      ]
     },
     "execution_count": 49,
     "metadata": {},
     "output_type": "execute_result"
    }
   ],
   "source": [
    "film_df.director.nunique()\n"
   ]
  },
  {
   "cell_type": "markdown",
   "metadata": {},
   "source": [
    "### Counts of unique directors by country\n"
   ]
  },
  {
   "cell_type": "code",
   "execution_count": 50,
   "metadata": {
    "scrolled": true
   },
   "outputs": [
    {
     "data": {
      "text/plain": [
       "country\n",
       "United States     207\n",
       "France             73\n",
       "United Kingdom     61\n",
       "Japan              44\n",
       "Italy              26\n",
       "Sweden             12\n",
       "Germany            12\n",
       "Czechoslovakia      9\n",
       "Spain               8\n",
       "Soviet Union        7\n",
       "Mexico              6\n",
       "Canada              5\n",
       "Denmark             5\n",
       "Poland              4\n",
       "Hong Kong           3\n",
       "India               3\n",
       "Belgium             3\n",
       "Australia           3\n",
       "Austria             2\n",
       "West Germany        2\n",
       "Senegal             2\n",
       "South Korea         2\n",
       "Taiwan              2\n",
       "Turkey              2\n",
       "Brazil              1\n",
       "China               1\n",
       "Cuba                1\n",
       "Bangladesh          1\n",
       "Finland             1\n",
       "Yugoslavia          1\n",
       "Kazakhstan          1\n",
       "Guatemala           1\n",
       "Iran                1\n",
       "Ireland             1\n",
       "Macedonia           1\n",
       "Morocco             1\n",
       "Netherlands         1\n",
       "New Zealand         1\n",
       "Norway              1\n",
       "Philippines         1\n",
       "Portugal            1\n",
       "Romania             1\n",
       "Thailand            1\n",
       "Argentina           1\n",
       "Name: director, dtype: int64"
      ]
     },
     "execution_count": 50,
     "metadata": {},
     "output_type": "execute_result"
    }
   ],
   "source": [
    "film_df.groupby('country').director.nunique().sort_values(ascending = False)\n"
   ]
  },
  {
   "cell_type": "markdown",
   "metadata": {},
   "source": [
    "### Where the majority of the directors are from\n"
   ]
  },
  {
   "cell_type": "code",
   "execution_count": 74,
   "metadata": {},
   "outputs": [
    {
     "data": {
      "image/png": "[encoded data removed]",
      "text/plain": [
       "<Figure size 648x504 with 1 Axes>"
      ]
     },
     "metadata": {
      "needs_background": "light"
     },
     "output_type": "display_data"
    }
   ],
   "source": [
    "ax = film_df.groupby('country').director.nunique().\\\n",
    "     sort_values(ascending = False).head(10).sort_values(ascending = True).\\\n",
    "     plot(kind = 'barh', figsize = (9, 7))\n",
    "ax.grid(linestyle = '--', axis = 'x')\n",
    "plt.tight_layout()\n",
    "plt.savefig(\"dir_by_country.pdf\")"
   ]
  },
  {
   "cell_type": "markdown",
   "metadata": {},
   "source": [
    "### 207 directors are from the U.S.\n"
   ]
  },
  {
   "cell_type": "code",
   "execution_count": 53,
   "metadata": {},
   "outputs": [
    {
     "data": {
      "text/plain": [
       "207"
      ]
     },
     "execution_count": 53,
     "metadata": {},
     "output_type": "execute_result"
    }
   ],
   "source": [
    "len(film_df[film_df.country == 'United States'].director.unique().tolist())\n"
   ]
  },
  {
   "cell_type": "markdown",
   "metadata": {},
   "source": [
    "### 10 U.S. directors with the most number of films liscened by CC\n"
   ]
  },
  {
   "cell_type": "code",
   "execution_count": 55,
   "metadata": {},
   "outputs": [
    {
     "data": {
      "text/plain": [
       "Ernst Lubitsch         9\n",
       "Josef von Sternberg    9\n",
       "Samuel Fuller          8\n",
       "Robert Altman          7\n",
       "Charles Chaplin        7\n",
       "Wes Anderson           7\n",
       "Richard Linklater      6\n",
       "John Cassavetes        6\n",
       "Steven Soderbergh      6\n",
       "Robert Downey Sr.      5\n",
       "Name: director, dtype: int64"
      ]
     },
     "execution_count": 55,
     "metadata": {},
     "output_type": "execute_result"
    }
   ],
   "source": [
    "film_df[film_df.country == 'United States'].director.value_counts().head(10)\n"
   ]
  },
  {
   "cell_type": "markdown",
   "metadata": {},
   "source": [
    "### 73 directors are from France\n"
   ]
  },
  {
   "cell_type": "code",
   "execution_count": 56,
   "metadata": {},
   "outputs": [
    {
     "data": {
      "text/plain": [
       "73"
      ]
     },
     "execution_count": 56,
     "metadata": {},
     "output_type": "execute_result"
    }
   ],
   "source": [
    "len(film_df[film_df.country == 'France'].director.unique().tolist())\n"
   ]
  },
  {
   "cell_type": "markdown",
   "metadata": {},
   "source": [
    "### 10 French directors with the most number of films liscened by CC\n"
   ]
  },
  {
   "cell_type": "code",
   "execution_count": 57,
   "metadata": {},
   "outputs": [
    {
     "data": {
      "text/plain": [
       "Louis Malle              14\n",
       "Jean-Luc Godard          12\n",
       "Jean Renoir              11\n",
       "Agnès Varda              10\n",
       "Jean-Pierre Melville      9\n",
       "François Truffaut         9\n",
       "Robert Bresson            7\n",
       "Jacques Demy              6\n",
       "Julien Duvivier           6\n",
       "Eric Rohmer               6\n",
       "Luis Buñuel               6\n",
       "Jacques Tati              6\n",
       "Sacha Guitry              5\n",
       "Pierre Etaix              5\n",
       "Henri-Georges Clouzot     5\n",
       "Jean Cocteau              4\n",
       "Max Ophuls                4\n",
       "Alain Resnais             4\n",
       "Olivier Assayas           4\n",
       "Claude Autant-Lara        4\n",
       "Name: director, dtype: int64"
      ]
     },
     "execution_count": 57,
     "metadata": {},
     "output_type": "execute_result"
    }
   ],
   "source": [
    "film_df[film_df.country == 'France'].director.value_counts().head(20)\n"
   ]
  },
  {
   "cell_type": "markdown",
   "metadata": {},
   "source": [
    "### CC liscened most films from these directors\n"
   ]
  },
  {
   "cell_type": "code",
   "execution_count": 75,
   "metadata": {},
   "outputs": [
    {
     "data": {
      "image/png": "[encoded data removed]",
      "text/plain": [
       "<Figure size 648x504 with 1 Axes>"
      ]
     },
     "metadata": {
      "needs_background": "light"
     },
     "output_type": "display_data"
    }
   ],
   "source": [
    "ax = film_df.groupby('country').director.value_counts().sort_values(ascending = False).head(10).sort_values().plot(kind = 'barh', figsize = (9, 7))\n",
    "ax.grid(linestyle = '--', axis = 'x')\n",
    "plt.tight_layout()\n",
    "plt.savefig(\"top_dir.pdf\")"
   ]
  },
  {
   "cell_type": "code",
   "execution_count": null,
   "metadata": {},
   "outputs": [],
   "source": []
  }
 ],
 "metadata": {
  "kernelspec": {
   "display_name": "Python 3",
   "language": "python",
   "name": "python3"
  },
  "language_info": {
   "codemirror_mode": {
    "name": "ipython",
    "version": 3
   },
   "file_extension": ".py",
   "mimetype": "text/x-python",
   "name": "python",
   "nbconvert_exporter": "python",
   "pygments_lexer": "ipython3",
   "version": "3.6.5"
  }
 },
 "nbformat": 4,
 "nbformat_minor": 2
}
