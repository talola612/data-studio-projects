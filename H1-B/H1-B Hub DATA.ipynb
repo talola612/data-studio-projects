{
 "cells": [
  {
   "cell_type": "code",
   "execution_count": 1,
   "metadata": {},
   "outputs": [],
   "source": [
    "import pandas as pd\n",
    "import numpy as np\n",
    "import statsmodels.api as sm\n",
    "from statsmodels.sandbox.regression.predstd import wls_prediction_std\n",
    "\n",
    "import matplotlib.pyplot as plt\n",
    "import seaborn as sns\n",
    "\n",
    "import requests\n",
    "from bs4 import BeautifulSoup\n",
    "from selenium import webdriver\n",
    "import re"
   ]
  },
  {
   "cell_type": "code",
   "execution_count": 49,
   "metadata": {},
   "outputs": [],
   "source": [
    "df_2019 = pd.read_csv('h1b_datahubexport-2019.csv')\n",
    "df_2018 = pd.read_csv('h1b_datahubexport-2018.csv')\n",
    "df_2017 = pd.read_csv('h1b_datahubexport-2017.csv')"
   ]
  },
  {
   "cell_type": "code",
   "execution_count": 50,
   "metadata": {},
   "outputs": [],
   "source": [
    "NAICS = pd.read_excel('2-6 digit_2017_Codes.xlsx')[1:].iloc[:, :3]"
   ]
  },
  {
   "cell_type": "code",
   "execution_count": 51,
   "metadata": {},
   "outputs": [],
   "source": [
    "NAICS.columns = NAICS.columns.str.replace('  ', '')"
   ]
  },
  {
   "cell_type": "code",
   "execution_count": 53,
   "metadata": {},
   "outputs": [],
   "source": [
    "df_2019 = df_2019.merge(NAICS, left_on = 'NAICS', right_on = '2017 NAICS US Code', how = 'left')"
   ]
  },
  {
   "cell_type": "code",
   "execution_count": 54,
   "metadata": {},
   "outputs": [],
   "source": [
    "df_2018 = df_2018.merge(NAICS, left_on = 'NAICS', right_on = '2017 NAICS US Code', how = 'left')"
   ]
  },
  {
   "cell_type": "code",
   "execution_count": 56,
   "metadata": {},
   "outputs": [],
   "source": [
    "df_2017 = df_2017.merge(NAICS, left_on = 'NAICS', right_on = '2017 NAICS US Code', how = 'left')"
   ]
  },
  {
   "cell_type": "code",
   "execution_count": 60,
   "metadata": {},
   "outputs": [
    {
     "data": {
      "text/plain": [
       "AMAZON CORPORATE LLC            33\n",
       "COGNIZANT TECH SOLNS US CORP    33\n",
       "CAPGEMINI AMERICA INC           26\n",
       "TECH MAHINDRA AMERICAS INC      24\n",
       "TATA CONSULTANCY SVCS LTD       23\n",
       "ACCENTURE LLP                   18\n",
       "DELOITTE CONSULTING LLP         18\n",
       "DELOITTE & TOUCHE LLP           17\n",
       "INFOSYS LTD                     17\n",
       "HONEYWELL INTERNATIONAL INC     17\n",
       "Name: Employer, dtype: int64"
      ]
     },
     "execution_count": 60,
     "metadata": {},
     "output_type": "execute_result"
    }
   ],
   "source": [
    "df_2017.Employer.value_counts().head(10)"
   ]
  },
  {
   "cell_type": "code",
   "execution_count": 65,
   "metadata": {},
   "outputs": [
    {
     "data": {
      "text/plain": [
       "CA    9755\n",
       "NY    5782\n",
       "TX    4803\n",
       "NJ    3199\n",
       "IL    2428\n",
       "MA    2295\n",
       "FL    2186\n",
       "VA    1741\n",
       "MI    1676\n",
       "PA    1569\n",
       "Name: State, dtype: int64"
      ]
     },
     "execution_count": 65,
     "metadata": {},
     "output_type": "execute_result"
    }
   ],
   "source": [
    "df_2017.State.value_counts().head(10)"
   ]
  },
  {
   "cell_type": "code",
   "execution_count": 68,
   "metadata": {},
   "outputs": [
    {
     "data": {
      "text/plain": [
       "Professional, Scientific, and Technical Services                            21807\n",
       "Health Care and Social Assistance                                            4840\n",
       "Finance and Insurance                                                        2993\n",
       "Educational Services                                                         2970\n",
       "Information                                                                  2599\n",
       "Wholesale Trade                                                              1462\n",
       "Administrative and Support and Waste Management and Remediation Services      752\n",
       "Construction                                                                  728\n",
       "Other Services (except Public Administration)                                 621\n",
       "Accommodation and Food Services                                               512\n",
       "Real Estate and Rental and Leasing                                            485\n",
       "Arts, Entertainment, and Recreation                                           304\n",
       "Public Administration                                                         279\n",
       "Mining, Quarrying, and Oil and Gas Extraction                                 265\n",
       "Utilities                                                                     250\n",
       "Agriculture, Forestry, Fishing and Hunting                                    125\n",
       "Management of Companies and Enterprises                                       117\n",
       "Name: 2017 NAICS US Title, dtype: int64"
      ]
     },
     "execution_count": 68,
     "metadata": {},
     "output_type": "execute_result"
    }
   ],
   "source": [
    "df_2017['2017 NAICS US Title'].value_counts()"
   ]
  },
  {
   "cell_type": "code",
   "execution_count": null,
   "metadata": {},
   "outputs": [],
   "source": []
  }
 ],
 "metadata": {
  "kernelspec": {
   "display_name": "Python 3",
   "language": "python",
   "name": "python3"
  },
  "language_info": {
   "codemirror_mode": {
    "name": "ipython",
    "version": 3
   },
   "file_extension": ".py",
   "mimetype": "text/x-python",
   "name": "python",
   "nbconvert_exporter": "python",
   "pygments_lexer": "ipython3",
   "version": "3.6.5"
  }
 },
 "nbformat": 4,
 "nbformat_minor": 2
}
